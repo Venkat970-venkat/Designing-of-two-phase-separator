{
 "cells": [
  {
   "cell_type": "code",
   "execution_count": 1,
   "id": "848cebef",
   "metadata": {},
   "outputs": [],
   "source": [
    "import math\n",
    "import numpy as np\n",
    "import pandas as pd\n",
    "from operator import add"
   ]
  },
  {
   "cell_type": "code",
   "execution_count": 2,
   "id": "bf82918c",
   "metadata": {},
   "outputs": [
    {
     "name": "stdout",
     "output_type": "stream",
     "text": [
      "API=40\n"
     ]
    },
    {
     "data": {
      "text/plain": [
       "51.48454810495627"
      ]
     },
     "execution_count": 2,
     "metadata": {},
     "output_type": "execute_result"
    }
   ],
   "source": [
    "#if API is given then density of liquid  is\n",
    "API=float(input('API='))\n",
    "sp_gr=141.5/(131.5+API)\n",
    "density_liq=sp_gr*62.4\n",
    "density_liq # use this value in density_liq below"
   ]
  },
  {
   "cell_type": "code",
   "execution_count": null,
   "id": "f82eb10a",
   "metadata": {},
   "outputs": [],
   "source": [
    "#if API is not given only sp.gr is given then use this for density_liq\n",
    "float(input(sp_gr))\n",
    "density_liq=sp_gr*62.4"
   ]
  },
  {
   "cell_type": "code",
   "execution_count": 3,
   "id": "88c039fb",
   "metadata": {},
   "outputs": [
    {
     "name": "stdout",
     "output_type": "stream",
     "text": [
      "temperatur(F)=60\n"
     ]
    },
    {
     "data": {
      "text/plain": [
       "520.0"
      ]
     },
     "execution_count": 3,
     "metadata": {},
     "output_type": "execute_result"
    }
   ],
   "source": [
    "#use this number only when temperature is given Franheit\n",
    "temp=float(input('temperatur(F)='))\n",
    "temp_rankine=temp+460\n",
    "temp_rankine #substitue numeric value in temperature below"
   ]
  },
  {
   "cell_type": "code",
   "execution_count": 4,
   "id": "8bb87cce",
   "metadata": {
    "scrolled": true
   },
   "outputs": [
    {
     "name": "stdout",
     "output_type": "stream",
     "text": [
      "gas_flow(MMscf/day)=10\n",
      "oil flow rate(BPD)=2000\n",
      "density_gas(lb/ft3)=3.71\n",
      "density_liq(lb/ft3)=51.45\n",
      "pressure(psi)=1000\n",
      "drop_size(micron)=140\n",
      "temperature(rankine)=520\n",
      "Cd=0.871\n",
      "compress_factor=0.85\n",
      "time(min)=3\n"
     ]
    }
   ],
   "source": [
    "gas_flow=float(input('gas_flow(MMscf/day)='))\n",
    "oil_flow=float(input('oil flow rate(BPD)='))\n",
    "density_gas=float(input('density_gas(lb/ft3)='))\n",
    "density_liq=float(input('density_liq(lb/ft3)='))\n",
    "pressure=float(input('pressure(psi)='))\n",
    "drop_size=float(input('drop_size(micron)='))\n",
    "temperature=float(input('temperature(rankine)='))\n",
    "Cd=float(input('Cd='))\n",
    "compress_factor=float(input('compress_factor='))\n",
    "time=float(input('time(min)='))"
   ]
  },
  {
   "cell_type": "code",
   "execution_count": 5,
   "id": "83f3577c",
   "metadata": {
    "scrolled": true
   },
   "outputs": [
    {
     "name": "stdout",
     "output_type": "stream",
     "text": [
      "Enter number of diameters : 7\n",
      "16\n",
      "20\n",
      "26\n",
      "30\n",
      "36\n",
      "42\n",
      "48\n",
      "[16, 20, 26, 30, 36, 42, 48]\n"
     ]
    }
   ],
   "source": [
    "diameter=[]\n",
    "n = int(input(\"Enter number of diameters : \")) \n",
    "for i in range(0, n): \n",
    "    ele= int(input()) \n",
    "    diameter.append(ele)\n",
    "print(diameter)"
   ]
  },
  {
   "cell_type": "code",
   "execution_count": 6,
   "id": "16df189f",
   "metadata": {},
   "outputs": [
    {
     "data": {
      "text/plain": [
       "40.81900055372839"
      ]
     },
     "execution_count": 6,
     "metadata": {},
     "output_type": "execute_result"
    }
   ],
   "source": [
    "a=(temperature*compress_factor*gas_flow/pressure)\n",
    "b=[(density_gas/(density_liq-density_gas))*(Cd/drop_size)]\n",
    "c=float(np.power(b,1/2))\n",
    "dLeff=420*a*c\n",
    "dLeff"
   ]
  },
  {
   "cell_type": "code",
   "execution_count": 7,
   "id": "3d925ba1",
   "metadata": {},
   "outputs": [],
   "source": [
    "diameter=[float(i) for i in diameter]\n",
    "Leff_gas=[]\n",
    "for i in diameter:\n",
    "    Leff=dLeff/i\n",
    "    Leff_gas.append(Leff)\n",
    "Lss_gas=[]\n",
    "for i in range(0,len(diameter)):\n",
    "    Lss=Leff_gas[i]+diameter[i]/12.0\n",
    "    Lss_gas.append(Lss)\n",
    "sr_gas=[]\n",
    "for i in range(0,len(Lss_gas)):\n",
    "    sr=12.0*Lss_gas[i]/diameter[i]\n",
    "    sr_gas.append(sr)"
   ]
  },
  {
   "cell_type": "code",
   "execution_count": 8,
   "id": "083887a2",
   "metadata": {},
   "outputs": [],
   "source": [
    "d2Leff=oil_flow*time/0.7\n",
    "d2Leff\n",
    "Leff_liquid=[]\n",
    "for i in range(0,len(diameter)):\n",
    "    Leff_liq=d2Leff/(diameter[i])**2\n",
    "    Leff_liquid.append(Leff_liq)\n",
    "Lss_liquid=[]\n",
    "for i in range(0,len(diameter)):\n",
    "    Lss_liq=(4.0/3.0)*Leff_liquid[i]\n",
    "    Lss_liquid.append(Lss_liq)\n",
    "sr_liquid=[]\n",
    "for i in range(0,len(diameter)):\n",
    "    sr_liq=12.0*Lss_liquid[i]/diameter[i]\n",
    "    sr_liquid.append(sr_liq)"
   ]
  },
  {
   "cell_type": "code",
   "execution_count": 54,
   "id": "073b3a5c",
   "metadata": {},
   "outputs": [
    {
     "data": {
      "text/html": [
       "<div>\n",
       "<style scoped>\n",
       "    .dataframe tbody tr th:only-of-type {\n",
       "        vertical-align: middle;\n",
       "    }\n",
       "\n",
       "    .dataframe tbody tr th {\n",
       "        vertical-align: top;\n",
       "    }\n",
       "\n",
       "    .dataframe thead th {\n",
       "        text-align: right;\n",
       "    }\n",
       "</style>\n",
       "<table border=\"1\" class=\"dataframe\">\n",
       "  <thead>\n",
       "    <tr style=\"text-align: right;\">\n",
       "      <th></th>\n",
       "      <th>diameter</th>\n",
       "      <th>Leff_gas</th>\n",
       "      <th>Leff_liquid</th>\n",
       "      <th>Lss_liquid</th>\n",
       "      <th>sr_gas</th>\n",
       "      <th>sr_liquid</th>\n",
       "    </tr>\n",
       "  </thead>\n",
       "  <tbody>\n",
       "    <tr>\n",
       "      <th>0</th>\n",
       "      <td>16.0</td>\n",
       "      <td>2.551188</td>\n",
       "      <td>33.482143</td>\n",
       "      <td>44.642857</td>\n",
       "      <td>2.913391</td>\n",
       "      <td>33.482143</td>\n",
       "    </tr>\n",
       "    <tr>\n",
       "      <th>1</th>\n",
       "      <td>20.0</td>\n",
       "      <td>2.040950</td>\n",
       "      <td>21.428571</td>\n",
       "      <td>28.571429</td>\n",
       "      <td>2.224570</td>\n",
       "      <td>17.142857</td>\n",
       "    </tr>\n",
       "    <tr>\n",
       "      <th>2</th>\n",
       "      <td>26.0</td>\n",
       "      <td>1.569962</td>\n",
       "      <td>12.679628</td>\n",
       "      <td>16.906171</td>\n",
       "      <td>1.724598</td>\n",
       "      <td>7.802848</td>\n",
       "    </tr>\n",
       "    <tr>\n",
       "      <th>3</th>\n",
       "      <td>30.0</td>\n",
       "      <td>1.360633</td>\n",
       "      <td>9.523810</td>\n",
       "      <td>12.698413</td>\n",
       "      <td>1.544253</td>\n",
       "      <td>5.079365</td>\n",
       "    </tr>\n",
       "    <tr>\n",
       "      <th>4</th>\n",
       "      <td>36.0</td>\n",
       "      <td>1.133861</td>\n",
       "      <td>6.613757</td>\n",
       "      <td>8.818342</td>\n",
       "      <td>1.377954</td>\n",
       "      <td>2.939447</td>\n",
       "    </tr>\n",
       "    <tr>\n",
       "      <th>5</th>\n",
       "      <td>42.0</td>\n",
       "      <td>0.971881</td>\n",
       "      <td>4.859086</td>\n",
       "      <td>6.478782</td>\n",
       "      <td>1.277680</td>\n",
       "      <td>1.851081</td>\n",
       "    </tr>\n",
       "    <tr>\n",
       "      <th>6</th>\n",
       "      <td>48.0</td>\n",
       "      <td>0.850396</td>\n",
       "      <td>3.720238</td>\n",
       "      <td>4.960317</td>\n",
       "      <td>1.212599</td>\n",
       "      <td>1.240079</td>\n",
       "    </tr>\n",
       "  </tbody>\n",
       "</table>\n",
       "</div>"
      ],
      "text/plain": [
       "   diameter  Leff_gas  Leff_liquid  Lss_liquid    sr_gas  sr_liquid\n",
       "0      16.0  2.551188    33.482143   44.642857  2.913391  33.482143\n",
       "1      20.0  2.040950    21.428571   28.571429  2.224570  17.142857\n",
       "2      26.0  1.569962    12.679628   16.906171  1.724598   7.802848\n",
       "3      30.0  1.360633     9.523810   12.698413  1.544253   5.079365\n",
       "4      36.0  1.133861     6.613757    8.818342  1.377954   2.939447\n",
       "5      42.0  0.971881     4.859086    6.478782  1.277680   1.851081\n",
       "6      48.0  0.850396     3.720238    4.960317  1.212599   1.240079"
      ]
     },
     "execution_count": 54,
     "metadata": {},
     "output_type": "execute_result"
    }
   ],
   "source": [
    "output=pd.DataFrame([diameter,Leff_gas,Leff_liquid,Lss_liquid,sr_gas,sr_liquid]).transpose()\n",
    "output.columns=['diameter','Leff_gas','Leff_liquid','Lss_liquid','sr_gas','sr_liquid']\n",
    "output"
   ]
  },
  {
   "cell_type": "code",
   "execution_count": 55,
   "id": "8feb6170",
   "metadata": {},
   "outputs": [
    {
     "data": {
      "text/html": [
       "<div>\n",
       "<style scoped>\n",
       "    .dataframe tbody tr th:only-of-type {\n",
       "        vertical-align: middle;\n",
       "    }\n",
       "\n",
       "    .dataframe tbody tr th {\n",
       "        vertical-align: top;\n",
       "    }\n",
       "\n",
       "    .dataframe thead th {\n",
       "        text-align: right;\n",
       "    }\n",
       "</style>\n",
       "<table border=\"1\" class=\"dataframe\">\n",
       "  <thead>\n",
       "    <tr style=\"text-align: right;\">\n",
       "      <th></th>\n",
       "      <th>diameter</th>\n",
       "      <th>Leff_gas</th>\n",
       "      <th>Leff_liquid</th>\n",
       "      <th>Lss_liquid</th>\n",
       "      <th>sr_gas</th>\n",
       "      <th>sr_liquid</th>\n",
       "    </tr>\n",
       "  </thead>\n",
       "  <tbody>\n",
       "    <tr>\n",
       "      <th>0</th>\n",
       "      <td>16.0</td>\n",
       "      <td>2.551188</td>\n",
       "      <td>33.482143</td>\n",
       "      <td>44.642857</td>\n",
       "      <td>2.913391</td>\n",
       "      <td>33.0</td>\n",
       "    </tr>\n",
       "    <tr>\n",
       "      <th>1</th>\n",
       "      <td>20.0</td>\n",
       "      <td>2.040950</td>\n",
       "      <td>21.428571</td>\n",
       "      <td>28.571429</td>\n",
       "      <td>2.224570</td>\n",
       "      <td>17.0</td>\n",
       "    </tr>\n",
       "    <tr>\n",
       "      <th>2</th>\n",
       "      <td>26.0</td>\n",
       "      <td>1.569962</td>\n",
       "      <td>12.679628</td>\n",
       "      <td>16.906171</td>\n",
       "      <td>1.724598</td>\n",
       "      <td>8.0</td>\n",
       "    </tr>\n",
       "    <tr>\n",
       "      <th>3</th>\n",
       "      <td>30.0</td>\n",
       "      <td>1.360633</td>\n",
       "      <td>9.523810</td>\n",
       "      <td>12.698413</td>\n",
       "      <td>1.544253</td>\n",
       "      <td>5.0</td>\n",
       "    </tr>\n",
       "    <tr>\n",
       "      <th>4</th>\n",
       "      <td>36.0</td>\n",
       "      <td>1.133861</td>\n",
       "      <td>6.613757</td>\n",
       "      <td>8.818342</td>\n",
       "      <td>1.377954</td>\n",
       "      <td>3.0</td>\n",
       "    </tr>\n",
       "    <tr>\n",
       "      <th>5</th>\n",
       "      <td>42.0</td>\n",
       "      <td>0.971881</td>\n",
       "      <td>4.859086</td>\n",
       "      <td>6.478782</td>\n",
       "      <td>1.277680</td>\n",
       "      <td>2.0</td>\n",
       "    </tr>\n",
       "    <tr>\n",
       "      <th>6</th>\n",
       "      <td>48.0</td>\n",
       "      <td>0.850396</td>\n",
       "      <td>3.720238</td>\n",
       "      <td>4.960317</td>\n",
       "      <td>1.212599</td>\n",
       "      <td>1.0</td>\n",
       "    </tr>\n",
       "  </tbody>\n",
       "</table>\n",
       "</div>"
      ],
      "text/plain": [
       "   diameter  Leff_gas  Leff_liquid  Lss_liquid    sr_gas  sr_liquid\n",
       "0      16.0  2.551188    33.482143   44.642857  2.913391       33.0\n",
       "1      20.0  2.040950    21.428571   28.571429  2.224570       17.0\n",
       "2      26.0  1.569962    12.679628   16.906171  1.724598        8.0\n",
       "3      30.0  1.360633     9.523810   12.698413  1.544253        5.0\n",
       "4      36.0  1.133861     6.613757    8.818342  1.377954        3.0\n",
       "5      42.0  0.971881     4.859086    6.478782  1.277680        2.0\n",
       "6      48.0  0.850396     3.720238    4.960317  1.212599        1.0"
      ]
     },
     "execution_count": 55,
     "metadata": {},
     "output_type": "execute_result"
    }
   ],
   "source": [
    "required_dia=output.round({'sr_liquid':0})\n",
    "required_dia"
   ]
  },
  {
   "cell_type": "code",
   "execution_count": 56,
   "id": "a075a600",
   "metadata": {},
   "outputs": [
    {
     "data": {
      "text/html": [
       "<div>\n",
       "<style scoped>\n",
       "    .dataframe tbody tr th:only-of-type {\n",
       "        vertical-align: middle;\n",
       "    }\n",
       "\n",
       "    .dataframe tbody tr th {\n",
       "        vertical-align: top;\n",
       "    }\n",
       "\n",
       "    .dataframe thead th {\n",
       "        text-align: right;\n",
       "    }\n",
       "</style>\n",
       "<table border=\"1\" class=\"dataframe\">\n",
       "  <thead>\n",
       "    <tr style=\"text-align: right;\">\n",
       "      <th></th>\n",
       "      <th>diameter</th>\n",
       "      <th>Leff_gas</th>\n",
       "      <th>Leff_liquid</th>\n",
       "      <th>Lss_liquid</th>\n",
       "      <th>sr_gas</th>\n",
       "      <th>sr_liquid</th>\n",
       "    </tr>\n",
       "  </thead>\n",
       "  <tbody>\n",
       "    <tr>\n",
       "      <th>4</th>\n",
       "      <td>36.0</td>\n",
       "      <td>1.133861</td>\n",
       "      <td>6.613757</td>\n",
       "      <td>8.818342</td>\n",
       "      <td>1.377954</td>\n",
       "      <td>3.0</td>\n",
       "    </tr>\n",
       "  </tbody>\n",
       "</table>\n",
       "</div>"
      ],
      "text/plain": [
       "   diameter  Leff_gas  Leff_liquid  Lss_liquid    sr_gas  sr_liquid\n",
       "4      36.0  1.133861     6.613757    8.818342  1.377954        3.0"
      ]
     },
     "execution_count": 56,
     "metadata": {},
     "output_type": "execute_result"
    }
   ],
   "source": [
    "required_diameter=required_dia[(required_dia.sr_liquid>=3)&(required_dia.sr_liquid<=4)]\n",
    "required_diameter"
   ]
  },
  {
   "cell_type": "code",
   "execution_count": null,
   "id": "3d20ace0",
   "metadata": {},
   "outputs": [],
   "source": []
  },
  {
   "cell_type": "code",
   "execution_count": null,
   "id": "7d379b53",
   "metadata": {},
   "outputs": [],
   "source": []
  }
 ],
 "metadata": {
  "kernelspec": {
   "display_name": "Python 3 (ipykernel)",
   "language": "python",
   "name": "python3"
  },
  "language_info": {
   "codemirror_mode": {
    "name": "ipython",
    "version": 3
   },
   "file_extension": ".py",
   "mimetype": "text/x-python",
   "name": "python",
   "nbconvert_exporter": "python",
   "pygments_lexer": "ipython3",
   "version": "3.7.11"
  }
 },
 "nbformat": 4,
 "nbformat_minor": 5
}
